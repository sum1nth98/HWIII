{
 "cells": [
  {
   "cell_type": "code",
   "execution_count": 1,
   "id": "f4198387",
   "metadata": {},
   "outputs": [],
   "source": [
    "import numpy as np \n",
    "import pandas as pd \n",
    "import matplotlib.pyplot as plt\n",
    "from surprise import KNNBasic, SVD, Reader, accuracy, Dataset\n",
    "from surprise.model_selection import cross_validate, train_test_split\n",
    "%matplotlib inline"
   ]
  },
  {
   "cell_type": "code",
   "execution_count": 3,
   "id": "117801f6",
   "metadata": {},
   "outputs": [
    {
     "data": {
      "text/html": [
       "<div>\n",
       "<style scoped>\n",
       "    .dataframe tbody tr th:only-of-type {\n",
       "        vertical-align: middle;\n",
       "    }\n",
       "\n",
       "    .dataframe tbody tr th {\n",
       "        vertical-align: top;\n",
       "    }\n",
       "\n",
       "    .dataframe thead th {\n",
       "        text-align: right;\n",
       "    }\n",
       "</style>\n",
       "<table border=\"1\" class=\"dataframe\">\n",
       "  <thead>\n",
       "    <tr style=\"text-align: right;\">\n",
       "      <th></th>\n",
       "      <th>userId</th>\n",
       "      <th>movieId</th>\n",
       "      <th>rating</th>\n",
       "      <th>timestamp</th>\n",
       "    </tr>\n",
       "  </thead>\n",
       "  <tbody>\n",
       "    <tr>\n",
       "      <th>0</th>\n",
       "      <td>1</td>\n",
       "      <td>31</td>\n",
       "      <td>2.5</td>\n",
       "      <td>1260759144</td>\n",
       "    </tr>\n",
       "    <tr>\n",
       "      <th>1</th>\n",
       "      <td>1</td>\n",
       "      <td>1029</td>\n",
       "      <td>3.0</td>\n",
       "      <td>1260759179</td>\n",
       "    </tr>\n",
       "    <tr>\n",
       "      <th>2</th>\n",
       "      <td>1</td>\n",
       "      <td>1061</td>\n",
       "      <td>3.0</td>\n",
       "      <td>1260759182</td>\n",
       "    </tr>\n",
       "    <tr>\n",
       "      <th>3</th>\n",
       "      <td>1</td>\n",
       "      <td>1129</td>\n",
       "      <td>2.0</td>\n",
       "      <td>1260759185</td>\n",
       "    </tr>\n",
       "    <tr>\n",
       "      <th>4</th>\n",
       "      <td>1</td>\n",
       "      <td>1172</td>\n",
       "      <td>4.0</td>\n",
       "      <td>1260759205</td>\n",
       "    </tr>\n",
       "    <tr>\n",
       "      <th>...</th>\n",
       "      <td>...</td>\n",
       "      <td>...</td>\n",
       "      <td>...</td>\n",
       "      <td>...</td>\n",
       "    </tr>\n",
       "    <tr>\n",
       "      <th>99999</th>\n",
       "      <td>671</td>\n",
       "      <td>6268</td>\n",
       "      <td>2.5</td>\n",
       "      <td>1065579370</td>\n",
       "    </tr>\n",
       "    <tr>\n",
       "      <th>100000</th>\n",
       "      <td>671</td>\n",
       "      <td>6269</td>\n",
       "      <td>4.0</td>\n",
       "      <td>1065149201</td>\n",
       "    </tr>\n",
       "    <tr>\n",
       "      <th>100001</th>\n",
       "      <td>671</td>\n",
       "      <td>6365</td>\n",
       "      <td>4.0</td>\n",
       "      <td>1070940363</td>\n",
       "    </tr>\n",
       "    <tr>\n",
       "      <th>100002</th>\n",
       "      <td>671</td>\n",
       "      <td>6385</td>\n",
       "      <td>2.5</td>\n",
       "      <td>1070979663</td>\n",
       "    </tr>\n",
       "    <tr>\n",
       "      <th>100003</th>\n",
       "      <td>671</td>\n",
       "      <td>6565</td>\n",
       "      <td>3.5</td>\n",
       "      <td>1074784724</td>\n",
       "    </tr>\n",
       "  </tbody>\n",
       "</table>\n",
       "<p>100004 rows × 4 columns</p>\n",
       "</div>"
      ],
      "text/plain": [
       "        userId  movieId  rating   timestamp\n",
       "0            1       31     2.5  1260759144\n",
       "1            1     1029     3.0  1260759179\n",
       "2            1     1061     3.0  1260759182\n",
       "3            1     1129     2.0  1260759185\n",
       "4            1     1172     4.0  1260759205\n",
       "...        ...      ...     ...         ...\n",
       "99999      671     6268     2.5  1065579370\n",
       "100000     671     6269     4.0  1065149201\n",
       "100001     671     6365     4.0  1070940363\n",
       "100002     671     6385     2.5  1070979663\n",
       "100003     671     6565     3.5  1074784724\n",
       "\n",
       "[100004 rows x 4 columns]"
      ]
     },
     "execution_count": 3,
     "metadata": {},
     "output_type": "execute_result"
    }
   ],
   "source": [
    "ratings = pd.read_csv('ratings_small.csv')\n",
    "ratings"
   ]
  },
  {
   "cell_type": "code",
   "execution_count": 7,
   "id": "0d3270c5",
   "metadata": {},
   "outputs": [],
   "source": [
    "reader = Reader()\n",
    "data = Dataset.load_from_df(ratings[['userId', 'movieId', 'rating']], reader)"
   ]
  },
  {
   "cell_type": "code",
   "execution_count": 8,
   "id": "382d816f",
   "metadata": {},
   "outputs": [
    {
     "name": "stdout",
     "output_type": "stream",
     "text": [
      "Evaluating RMSE, MAE of algorithm SVD on 5 split(s).\n",
      "\n",
      "                  Fold 1  Fold 2  Fold 3  Fold 4  Fold 5  Mean    Std     \n",
      "RMSE (testset)    1.0138  1.0087  1.0088  1.0088  1.0052  1.0091  0.0027  \n",
      "MAE (testset)     0.7808  0.7810  0.7781  0.7804  0.7759  0.7793  0.0020  \n",
      "Fit time          0.36    0.36    0.38    0.38    0.37    0.37    0.01    \n",
      "Test time         0.06    0.14    0.06    0.06    0.06    0.07    0.03    \n"
     ]
    }
   ],
   "source": [
    "pmf = SVD(biased = False)\n",
    "crosvali_pmf = cross_validate(pmf, data, measures=['RMSE', 'MAE'], cv=5, verbose=True);"
   ]
  },
  {
   "cell_type": "code",
   "execution_count": 9,
   "id": "0edd7c15",
   "metadata": {},
   "outputs": [
    {
     "name": "stdout",
     "output_type": "stream",
     "text": [
      "Average MAE for PMF Collaborative Filtering:  0.7792595519990089\n",
      "Average RMSE for PMF Collaborative Filtering:  1.0090660004385517\n"
     ]
    }
   ],
   "source": [
    "print('Average MAE for PMF Collaborative Filtering: ', crosvali_pmf['test_mae'].mean())\n",
    "print('Average RMSE for PMF Collaborative Filtering: ', crosvali_pmf['test_rmse'].mean())"
   ]
  },
  {
   "cell_type": "code",
   "execution_count": 10,
   "id": "b6c29271",
   "metadata": {},
   "outputs": [
    {
     "name": "stdout",
     "output_type": "stream",
     "text": [
      "Computing the msd similarity matrix...\n",
      "Done computing similarity matrix.\n",
      "Computing the msd similarity matrix...\n",
      "Done computing similarity matrix.\n",
      "Computing the msd similarity matrix...\n",
      "Done computing similarity matrix.\n",
      "Computing the msd similarity matrix...\n",
      "Done computing similarity matrix.\n",
      "Computing the msd similarity matrix...\n",
      "Done computing similarity matrix.\n",
      "Evaluating RMSE, MAE of algorithm KNNBasic on 5 split(s).\n",
      "\n",
      "                  Fold 1  Fold 2  Fold 3  Fold 4  Fold 5  Mean    Std     \n",
      "RMSE (testset)    0.9710  0.9740  0.9658  0.9678  0.9593  0.9676  0.0050  \n",
      "MAE (testset)     0.7421  0.7485  0.7458  0.7422  0.7390  0.7435  0.0033  \n",
      "Fit time          0.03    0.04    0.04    0.04    0.04    0.04    0.00    \n",
      "Test time         0.73    0.78    0.72    0.78    0.71    0.74    0.03    \n"
     ]
    }
   ],
   "source": [
    "sim_options = {'user_based': True}\n",
    "user_based_cf = KNNBasic(sim_options=sim_options)\n",
    "crosvali_ub = cross_validate(user_based_cf, data, measures=['RMSE', 'MAE'], cv=5, verbose=True);"
   ]
  },
  {
   "cell_type": "code",
   "execution_count": 11,
   "id": "42df5097",
   "metadata": {},
   "outputs": [
    {
     "name": "stdout",
     "output_type": "stream",
     "text": [
      "Average MAE for User-based Collaborative Filtering:  0.7435314644912953\n",
      "Average RMSE for User-based Collaborative Filtering:  0.9675833099184151\n"
     ]
    }
   ],
   "source": [
    "print('Average MAE for User-based Collaborative Filtering: ', crosvali_ub['test_mae'].mean())\n",
    "print('Average RMSE for User-based Collaborative Filtering: ', crosvali_ub['test_rmse'].mean())"
   ]
  },
  {
   "cell_type": "code",
   "execution_count": 14,
   "id": "cec39104",
   "metadata": {},
   "outputs": [
    {
     "name": "stdout",
     "output_type": "stream",
     "text": [
      "Computing the msd similarity matrix...\n",
      "Done computing similarity matrix.\n",
      "Computing the msd similarity matrix...\n",
      "Done computing similarity matrix.\n",
      "Computing the msd similarity matrix...\n",
      "Done computing similarity matrix.\n",
      "Computing the msd similarity matrix...\n",
      "Done computing similarity matrix.\n",
      "Computing the msd similarity matrix...\n",
      "Done computing similarity matrix.\n",
      "Evaluating RMSE, MAE of algorithm KNNBasic on 5 split(s).\n",
      "\n",
      "                  Fold 1  Fold 2  Fold 3  Fold 4  Fold 5  Mean    Std     \n",
      "RMSE (testset)    0.9368  0.9376  0.9335  0.9376  0.9296  0.9350  0.0031  \n",
      "MAE (testset)     0.7219  0.7214  0.7198  0.7248  0.7204  0.7217  0.0017  \n",
      "Fit time          1.46    1.46    1.51    1.49    1.48    1.48    0.02    \n",
      "Test time         3.12    3.16    3.10    3.19    3.10    3.14    0.04    \n"
     ]
    }
   ],
   "source": [
    "sim_options = {'user_based': False}\n",
    "item_based_cf = KNNBasic(sim_options=sim_options)\n",
    "crosvali_ib = cross_validate(item_based_cf, data, measures=['RMSE', 'MAE'], cv=5, verbose=True);"
   ]
  },
  {
   "cell_type": "code",
   "execution_count": 15,
   "id": "26d2dbf0",
   "metadata": {},
   "outputs": [
    {
     "name": "stdout",
     "output_type": "stream",
     "text": [
      "Average MAE for Item-based Collaborative Filtering:  0.7216627794967815\n",
      "Average RMSE for Item-based Collaborative Filtering:  0.9350170922160492\n"
     ]
    }
   ],
   "source": [
    "print('Average MAE for Item-based Collaborative Filtering: ', crosvali_ib['test_mae'].mean())\n",
    "print('Average RMSE for Item-based Collaborative Filtering: ', crosvali_ib['test_rmse'].mean())"
   ]
  },
  {
   "cell_type": "code",
   "execution_count": 16,
   "id": "760c0ede",
   "metadata": {},
   "outputs": [
    {
     "name": "stdout",
     "output_type": "stream",
     "text": [
      "Computing the cosine similarity matrix...\n",
      "Done computing similarity matrix.\n",
      "Computing the cosine similarity matrix...\n",
      "Done computing similarity matrix.\n",
      "Computing the cosine similarity matrix...\n",
      "Done computing similarity matrix.\n",
      "Computing the cosine similarity matrix...\n",
      "Done computing similarity matrix.\n",
      "Computing the cosine similarity matrix...\n",
      "Done computing similarity matrix.\n",
      "Evaluating RMSE, MAE of algorithm KNNBasic on 5 split(s).\n",
      "\n",
      "                  Fold 1  Fold 2  Fold 3  Fold 4  Fold 5  Mean    Std     \n",
      "RMSE (testset)    0.9926  0.9928  0.9961  0.9997  0.9914  0.9945  0.0030  \n",
      "MAE (testset)     0.7685  0.7679  0.7701  0.7703  0.7660  0.7686  0.0016  \n",
      "Fit time          0.05    0.06    0.06    0.06    0.06    0.06    0.00    \n",
      "Test time         0.72    0.72    0.73    0.78    0.73    0.74    0.02    \n"
     ]
    }
   ],
   "source": [
    "sim_options = {'name':'cosine', 'user_based': True}\n",
    "ub_cosine = KNNBasic(sim_options=sim_options);\n",
    "crosvali_ub_cosine = cross_validate(ub_cosine, data, measures=['RMSE', 'MAE'], cv=5, verbose=True);"
   ]
  },
  {
   "cell_type": "code",
   "execution_count": 17,
   "id": "a736a2a6",
   "metadata": {},
   "outputs": [
    {
     "name": "stdout",
     "output_type": "stream",
     "text": [
      "Computing the msd similarity matrix...\n",
      "Done computing similarity matrix.\n",
      "Computing the msd similarity matrix...\n",
      "Done computing similarity matrix.\n",
      "Computing the msd similarity matrix...\n",
      "Done computing similarity matrix.\n",
      "Computing the msd similarity matrix...\n",
      "Done computing similarity matrix.\n",
      "Computing the msd similarity matrix...\n",
      "Done computing similarity matrix.\n",
      "Evaluating RMSE, MAE of algorithm KNNBasic on 5 split(s).\n",
      "\n",
      "                  Fold 1  Fold 2  Fold 3  Fold 4  Fold 5  Mean    Std     \n",
      "RMSE (testset)    0.9654  0.9678  0.9664  0.9672  0.9734  0.9680  0.0028  \n",
      "MAE (testset)     0.7429  0.7411  0.7449  0.7442  0.7462  0.7439  0.0018  \n",
      "Fit time          0.03    0.04    0.04    0.04    0.04    0.04    0.00    \n",
      "Test time         0.69    0.71    0.71    0.78    0.73    0.73    0.03    \n"
     ]
    }
   ],
   "source": [
    "sim_options = {'name':'msd', 'user_based': True}\n",
    "ub_msd = KNNBasic(sim_options=sim_options);\n",
    "crosvali_ub_msd = cross_validate(ub_msd, data, measures=['RMSE', 'MAE'], cv=5, verbose=True);"
   ]
  },
  {
   "cell_type": "code",
   "execution_count": 18,
   "id": "8b5f415a",
   "metadata": {},
   "outputs": [
    {
     "name": "stdout",
     "output_type": "stream",
     "text": [
      "Computing the pearson similarity matrix...\n",
      "Done computing similarity matrix.\n",
      "Computing the pearson similarity matrix...\n",
      "Done computing similarity matrix.\n",
      "Computing the pearson similarity matrix...\n",
      "Done computing similarity matrix.\n",
      "Computing the pearson similarity matrix...\n",
      "Done computing similarity matrix.\n",
      "Computing the pearson similarity matrix...\n",
      "Done computing similarity matrix.\n",
      "Evaluating RMSE, MAE of algorithm KNNBasic on 5 split(s).\n",
      "\n",
      "                  Fold 1  Fold 2  Fold 3  Fold 4  Fold 5  Mean    Std     \n",
      "RMSE (testset)    1.0000  1.0055  0.9922  0.9934  1.0033  0.9989  0.0053  \n",
      "MAE (testset)     0.7743  0.7771  0.7682  0.7682  0.7776  0.7731  0.0041  \n",
      "Fit time          0.07    0.08    0.08    0.07    0.09    0.08    0.01    \n",
      "Test time         0.70    0.80    0.71    0.74    0.83    0.76    0.05    \n"
     ]
    }
   ],
   "source": [
    "sim_options = {'name':'pearson', 'user_based': True}\n",
    "ub_pearson = KNNBasic(sim_options=sim_options);\n",
    "crosvali_ub_pearson = cross_validate(ub_pearson, data, measures=['RMSE', 'MAE'], cv=5, verbose=True);"
   ]
  },
  {
   "cell_type": "code",
   "execution_count": 47,
   "id": "6b48deb7",
   "metadata": {},
   "outputs": [
    {
     "data": {
      "image/png": "[encoded data removed]",
      "text/plain": [
       "<Figure size 432x288 with 1 Axes>"
      ]
     },
     "metadata": {
      "needs_background": "light"
     },
     "output_type": "display_data"
    }
   ],
   "source": [
    "x = [0,1,2]\n",
    "y_mae = [crosvali_ub_cosine['test_mae'].mean(),crosvali_ub_msd['test_mae'].mean(),crosvali_ub_pearson['test_mae'].mean()]\n",
    "y_rmse = [crosvali_ub_cosine['test_rmse'].mean(),crosvali_ub_msd['test_rmse'].mean(),crosvali_ub_pearson['test_rmse'].mean()]\n",
    "plt.plot(x, y_mae)\n",
    "plt.plot(x, y_rmse)\n",
    "plt.title('User-based Collaborative Filtering(With 5-fold CV)')\n",
    "plt.legend(['MAE','RMSE'])\n",
    "plt.xticks(x,['Cosine','MSD','Pearson'])\n",
    "plt.ylabel('Average')\n",
    "plt.show()"
   ]
  },
  {
   "cell_type": "code",
   "execution_count": 29,
   "id": "4619d8f2",
   "metadata": {},
   "outputs": [
    {
     "name": "stdout",
     "output_type": "stream",
     "text": [
      "Computing the cosine similarity matrix...\n",
      "Done computing similarity matrix.\n",
      "Computing the cosine similarity matrix...\n",
      "Done computing similarity matrix.\n",
      "Computing the cosine similarity matrix...\n",
      "Done computing similarity matrix.\n",
      "Computing the cosine similarity matrix...\n",
      "Done computing similarity matrix.\n",
      "Computing the cosine similarity matrix...\n",
      "Done computing similarity matrix.\n",
      "Evaluating RMSE, MAE of algorithm KNNBasic on 5 split(s).\n",
      "\n",
      "                  Fold 1  Fold 2  Fold 3  Fold 4  Fold 5  Mean    Std     \n",
      "RMSE (testset)    1.0009  0.9994  0.9940  0.9905  0.9927  0.9955  0.0040  \n",
      "MAE (testset)     0.7782  0.7775  0.7742  0.7714  0.7751  0.7753  0.0024  \n",
      "Fit time          3.12    2.94    2.90    2.81    2.80    2.91    0.12    \n",
      "Test time         3.11    3.22    3.11    3.10    3.25    3.16    0.06    \n"
     ]
    }
   ],
   "source": [
    "sim_options = {'name':'cosine', 'user_based': False}\n",
    "ib_cosine = KNNBasic(sim_options=sim_options);\n",
    "crosvali_ib_cosine = cross_validate(ib_cosine, data, measures=['RMSE', 'MAE'], cv=5, verbose=True);"
   ]
  },
  {
   "cell_type": "code",
   "execution_count": 24,
   "id": "f26f23e3",
   "metadata": {},
   "outputs": [
    {
     "name": "stdout",
     "output_type": "stream",
     "text": [
      "Computing the msd similarity matrix...\n",
      "Done computing similarity matrix.\n",
      "Computing the msd similarity matrix...\n",
      "Done computing similarity matrix.\n",
      "Computing the msd similarity matrix...\n",
      "Done computing similarity matrix.\n",
      "Computing the msd similarity matrix...\n",
      "Done computing similarity matrix.\n",
      "Computing the msd similarity matrix...\n",
      "Done computing similarity matrix.\n",
      "Evaluating RMSE, MAE of algorithm KNNBasic on 5 split(s).\n",
      "\n",
      "                  Fold 1  Fold 2  Fold 3  Fold 4  Fold 5  Mean    Std     \n",
      "RMSE (testset)    0.9353  0.9337  0.9432  0.9365  0.9274  0.9352  0.0051  \n",
      "MAE (testset)     0.7188  0.7215  0.7245  0.7233  0.7167  0.7209  0.0029  \n",
      "Fit time          1.49    1.41    1.47    1.52    1.45    1.47    0.04    \n",
      "Test time         3.12    3.12    3.28    3.14    3.10    3.15    0.07    \n"
     ]
    }
   ],
   "source": [
    "sim_options = {'name':'msd', 'user_based': False}\n",
    "ib_msd = KNNBasic(sim_options=sim_options);\n",
    "crosvali_ib_msd = cross_validate(ib_msd, data, measures=['RMSE', 'MAE'], cv=5, verbose=True);"
   ]
  },
  {
   "cell_type": "code",
   "execution_count": 25,
   "id": "28a6eae9",
   "metadata": {},
   "outputs": [
    {
     "name": "stdout",
     "output_type": "stream",
     "text": [
      "Computing the pearson similarity matrix...\n",
      "Done computing similarity matrix.\n",
      "Computing the pearson similarity matrix...\n",
      "Done computing similarity matrix.\n",
      "Computing the pearson similarity matrix...\n",
      "Done computing similarity matrix.\n",
      "Computing the pearson similarity matrix...\n",
      "Done computing similarity matrix.\n",
      "Computing the pearson similarity matrix...\n",
      "Done computing similarity matrix.\n",
      "Evaluating RMSE, MAE of algorithm KNNBasic on 5 split(s).\n",
      "\n",
      "                  Fold 1  Fold 2  Fold 3  Fold 4  Fold 5  Mean    Std     \n",
      "RMSE (testset)    0.9848  0.9830  0.9905  0.9937  0.9931  0.9890  0.0044  \n",
      "MAE (testset)     0.7646  0.7657  0.7688  0.7704  0.7709  0.7681  0.0025  \n",
      "Fit time          5.29    5.01    4.88    4.89    4.85    4.98    0.16    \n",
      "Test time         3.23    3.04    3.07    3.25    3.05    3.13    0.09    \n"
     ]
    }
   ],
   "source": [
    "sim_options = {'name':'pearson', 'user_based': False}\n",
    "ib_pearson = KNNBasic(sim_options=sim_options);\n",
    "crosvali_ib_pearson = cross_validate(ib_pearson, data, measures=['RMSE', 'MAE'], cv=5, verbose=True);"
   ]
  },
  {
   "cell_type": "code",
   "execution_count": 30,
   "id": "de15a901",
   "metadata": {},
   "outputs": [
    {
     "data": {
      "image/png": "[encoded data removed]",
      "text/plain": [
       "<Figure size 432x288 with 1 Axes>"
      ]
     },
     "metadata": {
      "needs_background": "light"
     },
     "output_type": "display_data"
    }
   ],
   "source": [
    "x = [0,1,2]\n",
    "y_mae = [crosvali_ib_cosine['test_mae'].mean(),crosvali_ib_msd['test_mae'].mean(),crosvali_ib_pearson['test_mae'].mean()]\n",
    "y_rmse = [crosvali_ib_cosine['test_rmse'].mean(),crosvali_ib_msd['test_rmse'].mean(),crosvali_ib_pearson['test_rmse'].mean()]\n",
    "plt.plot(x, y_mae)\n",
    "plt.plot(x, y_rmse)\n",
    "plt.title('Item-based Collaborative Filtering(With 5-fold CV)')\n",
    "plt.legend(['MAE','RMSE'])\n",
    "plt.xticks(x,['Cosine','MSD','Pearson'])\n",
    "plt.ylabel('Average')\n",
    "plt.show()"
   ]
  },
  {
   "cell_type": "code",
   "execution_count": 31,
   "id": "cf8ac66b",
   "metadata": {},
   "outputs": [],
   "source": [
    "trainset, testset = train_test_split(data, test_size = 0.25, random_state = 42)"
   ]
  },
  {
   "cell_type": "code",
   "execution_count": 48,
   "id": "41cd3e18",
   "metadata": {},
   "outputs": [
    {
     "name": "stdout",
     "output_type": "stream",
     "text": [
      "Computing the msd similarity matrix...\n",
      "Done computing similarity matrix.\n",
      "MAE:  0.9063\n",
      "RMSE: 1.2110\n",
      "Computing the msd similarity matrix...\n",
      "Done computing similarity matrix.\n",
      "MAE:  0.7878\n",
      "RMSE: 1.0270\n",
      "Computing the msd similarity matrix...\n",
      "Done computing similarity matrix.\n",
      "MAE:  0.7612\n",
      "RMSE: 0.9913\n",
      "Computing the msd similarity matrix...\n",
      "Done computing similarity matrix.\n",
      "MAE:  0.7494\n",
      "RMSE: 0.9772\n",
      "Computing the msd similarity matrix...\n",
      "Done computing similarity matrix.\n",
      "MAE:  0.7451\n",
      "RMSE: 0.9721\n",
      "Computing the msd similarity matrix...\n",
      "Done computing similarity matrix.\n",
      "MAE:  0.7426\n",
      "RMSE: 0.9684\n",
      "Computing the msd similarity matrix...\n",
      "Done computing similarity matrix.\n",
      "MAE:  0.7415\n",
      "RMSE: 0.9665\n",
      "Computing the msd similarity matrix...\n",
      "Done computing similarity matrix.\n",
      "MAE:  0.7420\n",
      "RMSE: 0.9664\n",
      "Computing the msd similarity matrix...\n",
      "Done computing similarity matrix.\n",
      "MAE:  0.7426\n",
      "RMSE: 0.9666\n",
      "Computing the msd similarity matrix...\n",
      "Done computing similarity matrix.\n",
      "MAE:  0.7428\n",
      "RMSE: 0.9665\n",
      "Computing the msd similarity matrix...\n",
      "Done computing similarity matrix.\n",
      "MAE:  0.7431\n",
      "RMSE: 0.9668\n",
      "Computing the msd similarity matrix...\n",
      "Done computing similarity matrix.\n",
      "MAE:  0.7436\n",
      "RMSE: 0.9670\n",
      "Computing the msd similarity matrix...\n",
      "Done computing similarity matrix.\n",
      "MAE:  0.7439\n",
      "RMSE: 0.9675\n",
      "Computing the msd similarity matrix...\n",
      "Done computing similarity matrix.\n",
      "MAE:  0.7449\n",
      "RMSE: 0.9683\n",
      "Computing the msd similarity matrix...\n",
      "Done computing similarity matrix.\n",
      "MAE:  0.7455\n",
      "RMSE: 0.9688\n",
      "Computing the msd similarity matrix...\n",
      "Done computing similarity matrix.\n",
      "MAE:  0.7461\n",
      "RMSE: 0.9694\n",
      "Computing the msd similarity matrix...\n",
      "Done computing similarity matrix.\n",
      "MAE:  0.7467\n",
      "RMSE: 0.9700\n",
      "Computing the msd similarity matrix...\n",
      "Done computing similarity matrix.\n",
      "MAE:  0.7473\n",
      "RMSE: 0.9704\n",
      "Computing the msd similarity matrix...\n",
      "Done computing similarity matrix.\n",
      "MAE:  0.7478\n",
      "RMSE: 0.9709\n",
      "Computing the msd similarity matrix...\n",
      "Done computing similarity matrix.\n",
      "MAE:  0.7482\n",
      "RMSE: 0.9713\n",
      "Computing the msd similarity matrix...\n",
      "Done computing similarity matrix.\n",
      "MAE:  0.7486\n",
      "RMSE: 0.9716\n",
      "Computing the msd similarity matrix...\n",
      "Done computing similarity matrix.\n",
      "MAE:  0.7490\n",
      "RMSE: 0.9719\n",
      "Computing the msd similarity matrix...\n",
      "Done computing similarity matrix.\n",
      "MAE:  0.7494\n",
      "RMSE: 0.9722\n",
      "Computing the msd similarity matrix...\n",
      "Done computing similarity matrix.\n",
      "MAE:  0.7497\n",
      "RMSE: 0.9726\n",
      "Computing the msd similarity matrix...\n",
      "Done computing similarity matrix.\n",
      "MAE:  0.7500\n",
      "RMSE: 0.9729\n"
     ]
    }
   ],
   "source": [
    "ubc_nn_mae = []\n",
    "ubc_nn_rmse = []\n",
    "k1 = list(np.arange(1,50,2))\n",
    "for i in k1:\n",
    "  ubc_nn = KNNBasic(k = i, sim_options = {'user_based' : True})\n",
    "  ubc_nn.fit(trainset)\n",
    "  predictions = ubc_nn.test(testset)\n",
    "  ubc_nn_mae.append(accuracy.mae(predictions))\n",
    "  ubc_nn_rmse.append(accuracy.rmse(predictions))"
   ]
  },
  {
   "cell_type": "code",
   "execution_count": 49,
   "id": "422676f6",
   "metadata": {},
   "outputs": [
    {
     "data": {
      "image/png": "[encoded data removed]",
      "text/plain": [
       "<Figure size 432x288 with 1 Axes>"
      ]
     },
     "metadata": {
      "needs_background": "light"
     },
     "output_type": "display_data"
    }
   ],
   "source": [
    "plt.plot(k1,ubc_nn_mae)\n",
    "plt.plot(k1,ubc_nn_rmse)\n",
    "plt.xlabel('Number of Neighbors')\n",
    "plt.ylabel('Testset')\n",
    "plt.legend(['MAE','RMSE'])\n",
    "plt.title('User-based Collaborative Filtering')\n",
    "plt.show()"
   ]
  },
  {
   "cell_type": "code",
   "execution_count": 50,
   "id": "71588780",
   "metadata": {},
   "outputs": [
    {
     "name": "stdout",
     "output_type": "stream",
     "text": [
      "Best Value of K :  8\n",
      "Minimum RMSE :  0.9663589276453397\n"
     ]
    }
   ],
   "source": [
    "k_ubc = ubc_nn_rmse.index(min(ubc_nn_rmse))+1\n",
    "print('Best Value of K : ', k_ubc)\n",
    "print('Minimum RMSE : ', min(ubc_nn_rmse))"
   ]
  },
  {
   "cell_type": "code",
   "execution_count": 51,
   "id": "be46fe03",
   "metadata": {},
   "outputs": [
    {
     "name": "stdout",
     "output_type": "stream",
     "text": [
      "Computing the msd similarity matrix...\n",
      "Done computing similarity matrix.\n",
      "MAE:  0.9703\n",
      "RMSE: 1.3138\n",
      "Computing the msd similarity matrix...\n",
      "Done computing similarity matrix.\n",
      "MAE:  0.8337\n",
      "RMSE: 1.0839\n",
      "Computing the msd similarity matrix...\n",
      "Done computing similarity matrix.\n",
      "MAE:  0.7966\n",
      "RMSE: 1.0277\n",
      "Computing the msd similarity matrix...\n",
      "Done computing similarity matrix.\n",
      "MAE:  0.7765\n",
      "RMSE: 1.0013\n",
      "Computing the msd similarity matrix...\n",
      "Done computing similarity matrix.\n",
      "MAE:  0.7659\n",
      "RMSE: 0.9867\n",
      "Computing the msd similarity matrix...\n",
      "Done computing similarity matrix.\n",
      "MAE:  0.7581\n",
      "RMSE: 0.9768\n",
      "Computing the msd similarity matrix...\n",
      "Done computing similarity matrix.\n",
      "MAE:  0.7515\n",
      "RMSE: 0.9687\n",
      "Computing the msd similarity matrix...\n",
      "Done computing similarity matrix.\n",
      "MAE:  0.7474\n",
      "RMSE: 0.9639\n",
      "Computing the msd similarity matrix...\n",
      "Done computing similarity matrix.\n",
      "MAE:  0.7445\n",
      "RMSE: 0.9602\n",
      "Computing the msd similarity matrix...\n",
      "Done computing similarity matrix.\n",
      "MAE:  0.7419\n",
      "RMSE: 0.9569\n",
      "Computing the msd similarity matrix...\n",
      "Done computing similarity matrix.\n",
      "MAE:  0.7394\n",
      "RMSE: 0.9543\n",
      "Computing the msd similarity matrix...\n",
      "Done computing similarity matrix.\n",
      "MAE:  0.7378\n",
      "RMSE: 0.9526\n",
      "Computing the msd similarity matrix...\n",
      "Done computing similarity matrix.\n",
      "MAE:  0.7361\n",
      "RMSE: 0.9505\n",
      "Computing the msd similarity matrix...\n",
      "Done computing similarity matrix.\n",
      "MAE:  0.7350\n",
      "RMSE: 0.9491\n",
      "Computing the msd similarity matrix...\n",
      "Done computing similarity matrix.\n",
      "MAE:  0.7339\n",
      "RMSE: 0.9477\n",
      "Computing the msd similarity matrix...\n",
      "Done computing similarity matrix.\n",
      "MAE:  0.7333\n",
      "RMSE: 0.9469\n",
      "Computing the msd similarity matrix...\n",
      "Done computing similarity matrix.\n",
      "MAE:  0.7329\n",
      "RMSE: 0.9462\n",
      "Computing the msd similarity matrix...\n",
      "Done computing similarity matrix.\n",
      "MAE:  0.7325\n",
      "RMSE: 0.9457\n",
      "Computing the msd similarity matrix...\n",
      "Done computing similarity matrix.\n",
      "MAE:  0.7317\n",
      "RMSE: 0.9448\n",
      "Computing the msd similarity matrix...\n",
      "Done computing similarity matrix.\n",
      "MAE:  0.7311\n",
      "RMSE: 0.9443\n",
      "Computing the msd similarity matrix...\n",
      "Done computing similarity matrix.\n",
      "MAE:  0.7307\n",
      "RMSE: 0.9437\n",
      "Computing the msd similarity matrix...\n",
      "Done computing similarity matrix.\n",
      "MAE:  0.7302\n",
      "RMSE: 0.9433\n",
      "Computing the msd similarity matrix...\n",
      "Done computing similarity matrix.\n",
      "MAE:  0.7300\n",
      "RMSE: 0.9430\n",
      "Computing the msd similarity matrix...\n",
      "Done computing similarity matrix.\n",
      "MAE:  0.7297\n",
      "RMSE: 0.9427\n",
      "Computing the msd similarity matrix...\n",
      "Done computing similarity matrix.\n",
      "MAE:  0.7296\n",
      "RMSE: 0.9425\n"
     ]
    }
   ],
   "source": [
    "ibc_nn_mae = []\n",
    "ibc_nn_rmse = []\n",
    "for i in k1:\n",
    "  ibc_nn = KNNBasic(k = i, sim_options = {'user_based' : False})\n",
    "  ibc_nn.fit(trainset)\n",
    "  predictions = ibc_nn.test(testset)\n",
    "  ibc_nn_mae.append(accuracy.mae(predictions))\n",
    "  ibc_nn_rmse.append(accuracy.rmse(predictions))"
   ]
  },
  {
   "cell_type": "code",
   "execution_count": 52,
   "id": "ff89a232",
   "metadata": {},
   "outputs": [
    {
     "data": {
      "image/png": "[encoded data removed]",
      "text/plain": [
       "<Figure size 432x288 with 1 Axes>"
      ]
     },
     "metadata": {
      "needs_background": "light"
     },
     "output_type": "display_data"
    }
   ],
   "source": [
    "plt.plot(k1,ibc_nn_mae)\n",
    "plt.plot(k1,ibc_nn_rmse)\n",
    "plt.xlabel('Number of Neighbors')\n",
    "plt.ylabel('Testset')\n",
    "plt.legend(['MAE','RMSE'])\n",
    "plt.title('Item-based Collaborative Filtering')\n",
    "plt.show()"
   ]
  },
  {
   "cell_type": "code",
   "execution_count": 53,
   "id": "c456774b",
   "metadata": {},
   "outputs": [
    {
     "name": "stdout",
     "output_type": "stream",
     "text": [
      "Best Value of K :  25\n",
      "Minimum RMSE :  0.942461002786997\n"
     ]
    }
   ],
   "source": [
    "k_ibc = ibc_nn_rmse.index(min(ibc_nn_rmse))+1\n",
    "print('Best Value of K : ', k_ibc)\n",
    "print('Minimum RMSE : ', min(ibc_nn_rmse))"
   ]
  },
  {
   "cell_type": "code",
   "execution_count": null,
   "id": "f8e86d2f",
   "metadata": {},
   "outputs": [],
   "source": []
  }
 ],
 "metadata": {
  "kernelspec": {
   "display_name": "Python 3 (ipykernel)",
   "language": "python",
   "name": "python3"
  },
  "language_info": {
   "codemirror_mode": {
    "name": "ipython",
    "version": 3
   },
   "file_extension": ".py",
   "mimetype": "text/x-python",
   "name": "python",
   "nbconvert_exporter": "python",
   "pygments_lexer": "ipython3",
   "version": "3.9.12"
  }
 },
 "nbformat": 4,
 "nbformat_minor": 5
}
