{
 "cells": [
  {
   "cell_type": "code",
   "execution_count": 1,
   "id": "f4198387",
   "metadata": {},
   "outputs": [],
   "source": [
    "import numpy as np \n",
    "import pandas as pd \n",
    "import matplotlib.pyplot as plt\n",
    "from surprise import KNNBasic, SVD, Reader, accuracy, Dataset\n",
    "from surprise.model_selection import cross_validate, train_test_split\n",
    "%matplotlib inline"
   ]
  },
  {
   "cell_type": "code",
   "execution_count": 2,
   "id": "117801f6",
   "metadata": {},
   "outputs": [
    {
     "data": {
      "text/html": [
       "<div>\n",
       "<style scoped>\n",
       "    .dataframe tbody tr th:only-of-type {\n",
       "        vertical-align: middle;\n",
       "    }\n",
       "\n",
       "    .dataframe tbody tr th {\n",
       "        vertical-align: top;\n",
       "    }\n",
       "\n",
       "    .dataframe thead th {\n",
       "        text-align: right;\n",
       "    }\n",
       "</style>\n",
       "<table border=\"1\" class=\"dataframe\">\n",
       "  <thead>\n",
       "    <tr style=\"text-align: right;\">\n",
       "      <th></th>\n",
       "      <th>userId</th>\n",
       "      <th>movieId</th>\n",
       "      <th>rating</th>\n",
       "      <th>timestamp</th>\n",
       "    </tr>\n",
       "  </thead>\n",
       "  <tbody>\n",
       "    <tr>\n",
       "      <th>0</th>\n",
       "      <td>1</td>\n",
       "      <td>31</td>\n",
       "      <td>2.5</td>\n",
       "      <td>1260759144</td>\n",
       "    </tr>\n",
       "    <tr>\n",
       "      <th>1</th>\n",
       "      <td>1</td>\n",
       "      <td>1029</td>\n",
       "      <td>3.0</td>\n",
       "      <td>1260759179</td>\n",
       "    </tr>\n",
       "    <tr>\n",
       "      <th>2</th>\n",
       "      <td>1</td>\n",
       "      <td>1061</td>\n",
       "      <td>3.0</td>\n",
       "      <td>1260759182</td>\n",
       "    </tr>\n",
       "    <tr>\n",
       "      <th>3</th>\n",
       "      <td>1</td>\n",
       "      <td>1129</td>\n",
       "      <td>2.0</td>\n",
       "      <td>1260759185</td>\n",
       "    </tr>\n",
       "    <tr>\n",
       "      <th>4</th>\n",
       "      <td>1</td>\n",
       "      <td>1172</td>\n",
       "      <td>4.0</td>\n",
       "      <td>1260759205</td>\n",
       "    </tr>\n",
       "    <tr>\n",
       "      <th>...</th>\n",
       "      <td>...</td>\n",
       "      <td>...</td>\n",
       "      <td>...</td>\n",
       "      <td>...</td>\n",
       "    </tr>\n",
       "    <tr>\n",
       "      <th>99999</th>\n",
       "      <td>671</td>\n",
       "      <td>6268</td>\n",
       "      <td>2.5</td>\n",
       "      <td>1065579370</td>\n",
       "    </tr>\n",
       "    <tr>\n",
       "      <th>100000</th>\n",
       "      <td>671</td>\n",
       "      <td>6269</td>\n",
       "      <td>4.0</td>\n",
       "      <td>1065149201</td>\n",
       "    </tr>\n",
       "    <tr>\n",
       "      <th>100001</th>\n",
       "      <td>671</td>\n",
       "      <td>6365</td>\n",
       "      <td>4.0</td>\n",
       "      <td>1070940363</td>\n",
       "    </tr>\n",
       "    <tr>\n",
       "      <th>100002</th>\n",
       "      <td>671</td>\n",
       "      <td>6385</td>\n",
       "      <td>2.5</td>\n",
       "      <td>1070979663</td>\n",
       "    </tr>\n",
       "    <tr>\n",
       "      <th>100003</th>\n",
       "      <td>671</td>\n",
       "      <td>6565</td>\n",
       "      <td>3.5</td>\n",
       "      <td>1074784724</td>\n",
       "    </tr>\n",
       "  </tbody>\n",
       "</table>\n",
       "<p>100004 rows × 4 columns</p>\n",
       "</div>"
      ],
      "text/plain": [
       "        userId  movieId  rating   timestamp\n",
       "0            1       31     2.5  1260759144\n",
       "1            1     1029     3.0  1260759179\n",
       "2            1     1061     3.0  1260759182\n",
       "3            1     1129     2.0  1260759185\n",
       "4            1     1172     4.0  1260759205\n",
       "...        ...      ...     ...         ...\n",
       "99999      671     6268     2.5  1065579370\n",
       "100000     671     6269     4.0  1065149201\n",
       "100001     671     6365     4.0  1070940363\n",
       "100002     671     6385     2.5  1070979663\n",
       "100003     671     6565     3.5  1074784724\n",
       "\n",
       "[100004 rows x 4 columns]"
      ]
     },
     "execution_count": 2,
     "metadata": {},
     "output_type": "execute_result"
    }
   ],
   "source": [
    "ratings = pd.read_csv('ratings_small.csv')\n",
    "ratings"
   ]
  },
  {
   "cell_type": "code",
   "execution_count": 3,
   "id": "44020d4f",
   "metadata": {},
   "outputs": [],
   "source": [
    "reader = Reader()\n",
    "dataset= Dataset.load_from_df(ratings[['userId', 'movieId', 'rating']], reader)"
   ]
  },
  {
   "cell_type": "code",
   "execution_count": 4,
   "id": "71196a17",
   "metadata": {},
   "outputs": [
    {
     "name": "stdout",
     "output_type": "stream",
     "text": [
      "Evaluating RMSE, MAE of algorithm SVD on 5 split(s).\n",
      "\n",
      "                  Fold 1  Fold 2  Fold 3  Fold 4  Fold 5  Mean    Std     \n",
      "RMSE (testset)    1.0072  1.0102  1.0099  1.0178  1.0009  1.0092  0.0055  \n",
      "MAE (testset)     0.7749  0.7806  0.7807  0.7856  0.7724  0.7788  0.0047  \n",
      "Fit time          0.38    0.41    0.38    0.37    0.37    0.38    0.02    \n",
      "Test time         0.06    0.11    0.05    0.05    0.11    0.08    0.03    \n"
     ]
    }
   ],
   "source": [
    "pmf = SVD(biased = False)\n",
    "crosvali_pmf = cross_validate(pmf, dataset, measures=['RMSE', 'MAE'], cv=5, verbose=True);"
   ]
  },
  {
   "cell_type": "code",
   "execution_count": 5,
   "id": "8e796209",
   "metadata": {},
   "outputs": [
    {
     "name": "stdout",
     "output_type": "stream",
     "text": [
      "Average MAE for PMF Collaborative Filtering:  0.7788398172433195\n",
      "Average RMSE for PMF Collaborative Filtering:  1.009194956011828\n"
     ]
    }
   ],
   "source": [
    "print('Average MAE for PMF Collaborative Filtering: ', crosvali_pmf['test_mae'].mean())\n",
    "print('Average RMSE for PMF Collaborative Filtering: ', crosvali_pmf['test_rmse'].mean())"
   ]
  },
  {
   "cell_type": "code",
   "execution_count": 6,
   "id": "5a31ff44",
   "metadata": {},
   "outputs": [
    {
     "name": "stdout",
     "output_type": "stream",
     "text": [
      "Computing the msd similarity matrix...\n",
      "Done computing similarity matrix.\n",
      "Computing the msd similarity matrix...\n",
      "Done computing similarity matrix.\n",
      "Computing the msd similarity matrix...\n",
      "Done computing similarity matrix.\n",
      "Computing the msd similarity matrix...\n",
      "Done computing similarity matrix.\n",
      "Computing the msd similarity matrix...\n",
      "Done computing similarity matrix.\n",
      "Evaluating RMSE, MAE of algorithm KNNBasic on 5 split(s).\n",
      "\n",
      "                  Fold 1  Fold 2  Fold 3  Fold 4  Fold 5  Mean    Std     \n",
      "RMSE (testset)    0.9627  0.9731  0.9742  0.9703  0.9605  0.9682  0.0055  \n",
      "MAE (testset)     0.7406  0.7506  0.7472  0.7448  0.7384  0.7443  0.0044  \n",
      "Fit time          0.03    0.05    0.04    0.04    0.04    0.04    0.00    \n",
      "Test time         0.79    0.73    0.81    0.75    0.77    0.77    0.03    \n"
     ]
    }
   ],
   "source": [
    "sim_options = {'user_based': True}\n",
    "user_cf = KNNBasic(sim_options=sim_options)\n",
    "crosvali_u = cross_validate(user_cf, dataset, measures=['RMSE', 'MAE'], cv=5, verbose=True);"
   ]
  },
  {
   "cell_type": "code",
   "execution_count": 7,
   "id": "0ec983e0",
   "metadata": {},
   "outputs": [
    {
     "name": "stdout",
     "output_type": "stream",
     "text": [
      "Average MAE for User-based Collaborative Filtering:  0.7443234406103911\n",
      "Average RMSE for User-based Collaborative Filtering:  0.9681877363772916\n"
     ]
    }
   ],
   "source": [
    "print('Average MAE for User-based Collaborative Filtering: ', crosvali_u['test_mae'].mean())\n",
    "print('Average RMSE for User-based Collaborative Filtering: ', crosvali_u['test_rmse'].mean())"
   ]
  },
  {
   "cell_type": "code",
   "execution_count": 8,
   "id": "1ce251c0",
   "metadata": {},
   "outputs": [
    {
     "name": "stdout",
     "output_type": "stream",
     "text": [
      "Computing the msd similarity matrix...\n",
      "Done computing similarity matrix.\n",
      "Computing the msd similarity matrix...\n",
      "Done computing similarity matrix.\n",
      "Computing the msd similarity matrix...\n",
      "Done computing similarity matrix.\n",
      "Computing the msd similarity matrix...\n",
      "Done computing similarity matrix.\n",
      "Computing the msd similarity matrix...\n",
      "Done computing similarity matrix.\n",
      "Evaluating RMSE, MAE of algorithm KNNBasic on 5 split(s).\n",
      "\n",
      "                  Fold 1  Fold 2  Fold 3  Fold 4  Fold 5  Mean    Std     \n",
      "RMSE (testset)    0.9284  0.9226  0.9397  0.9471  0.9372  0.9350  0.0086  \n",
      "MAE (testset)     0.7160  0.7132  0.7238  0.7288  0.7238  0.7211  0.0057  \n",
      "Fit time          1.47    1.44    1.46    1.69    1.53    1.52    0.09    \n",
      "Test time         3.08    3.14    3.25    3.18    3.31    3.19    0.08    \n"
     ]
    }
   ],
   "source": [
    "sim_options = {'user_based': False}\n",
    "item_cf = KNNBasic(sim_options=sim_options)\n",
    "crosvali_i = cross_validate(item_cf, dataset, measures=['RMSE', 'MAE'], cv=5, verbose=True);"
   ]
  },
  {
   "cell_type": "code",
   "execution_count": 9,
   "id": "2fae4e5b",
   "metadata": {},
   "outputs": [
    {
     "name": "stdout",
     "output_type": "stream",
     "text": [
      "Average MAE for Item-based Collaborative Filtering:  0.7211246688054511\n",
      "Average RMSE for Item-based Collaborative Filtering:  0.9350092648441359\n"
     ]
    }
   ],
   "source": [
    "print('Average MAE for Item-based Collaborative Filtering: ', crosvali_i['test_mae'].mean())\n",
    "print('Average RMSE for Item-based Collaborative Filtering: ', crosvali_i['test_rmse'].mean())"
   ]
  },
  {
   "cell_type": "code",
   "execution_count": 10,
   "id": "9a6b6667",
   "metadata": {},
   "outputs": [
    {
     "name": "stdout",
     "output_type": "stream",
     "text": [
      "Computing the cosine similarity matrix...\n",
      "Done computing similarity matrix.\n",
      "Computing the cosine similarity matrix...\n",
      "Done computing similarity matrix.\n",
      "Computing the cosine similarity matrix...\n",
      "Done computing similarity matrix.\n",
      "Computing the cosine similarity matrix...\n",
      "Done computing similarity matrix.\n",
      "Computing the cosine similarity matrix...\n",
      "Done computing similarity matrix.\n",
      "Evaluating RMSE, MAE of algorithm KNNBasic on 5 split(s).\n",
      "\n",
      "                  Fold 1  Fold 2  Fold 3  Fold 4  Fold 5  Mean    Std     \n",
      "RMSE (testset)    0.9964  0.9928  0.9867  0.9954  0.9941  0.9931  0.0034  \n",
      "MAE (testset)     0.7681  0.7680  0.7634  0.7673  0.7681  0.7670  0.0018  \n",
      "Fit time          0.05    0.06    0.06    0.07    0.06    0.06    0.01    \n",
      "Test time         0.73    0.78    0.72    0.82    0.74    0.76    0.04    \n"
     ]
    }
   ],
   "source": [
    "sim_options = {'name':'cosine', 'user_based': True}\n",
    "u_cos = KNNBasic(sim_options=sim_options);\n",
    "crosvali_u_cos = cross_validate(u_cos, dataset, measures=['RMSE', 'MAE'], cv=5, verbose=True);"
   ]
  },
  {
   "cell_type": "code",
   "execution_count": 11,
   "id": "bc4f4082",
   "metadata": {},
   "outputs": [
    {
     "name": "stdout",
     "output_type": "stream",
     "text": [
      "Computing the msd similarity matrix...\n",
      "Done computing similarity matrix.\n",
      "Computing the msd similarity matrix...\n",
      "Done computing similarity matrix.\n",
      "Computing the msd similarity matrix...\n",
      "Done computing similarity matrix.\n",
      "Computing the msd similarity matrix...\n",
      "Done computing similarity matrix.\n",
      "Computing the msd similarity matrix...\n",
      "Done computing similarity matrix.\n",
      "Evaluating RMSE, MAE of algorithm KNNBasic on 5 split(s).\n",
      "\n",
      "                  Fold 1  Fold 2  Fold 3  Fold 4  Fold 5  Mean    Std     \n",
      "RMSE (testset)    0.9606  0.9636  0.9656  0.9703  0.9793  0.9679  0.0065  \n",
      "MAE (testset)     0.7396  0.7398  0.7429  0.7463  0.7515  0.7440  0.0045  \n",
      "Fit time          0.03    0.04    0.04    0.04    0.05    0.04    0.00    \n",
      "Test time         0.74    0.73    0.73    0.81    0.74    0.75    0.03    \n"
     ]
    }
   ],
   "source": [
    "sim_options = {'name':'msd', 'user_based': True}\n",
    "u_msd = KNNBasic(sim_options=sim_options);\n",
    "crosvali_u_msd = cross_validate(u_msd, dataset, measures=['RMSE', 'MAE'], cv=5, verbose=True);"
   ]
  },
  {
   "cell_type": "code",
   "execution_count": 12,
   "id": "e4784d1f",
   "metadata": {},
   "outputs": [
    {
     "name": "stdout",
     "output_type": "stream",
     "text": [
      "Computing the pearson similarity matrix...\n",
      "Done computing similarity matrix.\n",
      "Computing the pearson similarity matrix...\n",
      "Done computing similarity matrix.\n",
      "Computing the pearson similarity matrix...\n",
      "Done computing similarity matrix.\n",
      "Computing the pearson similarity matrix...\n",
      "Done computing similarity matrix.\n",
      "Computing the pearson similarity matrix...\n",
      "Done computing similarity matrix.\n",
      "Evaluating RMSE, MAE of algorithm KNNBasic on 5 split(s).\n",
      "\n",
      "                  Fold 1  Fold 2  Fold 3  Fold 4  Fold 5  Mean    Std     \n",
      "RMSE (testset)    0.9930  1.0097  0.9996  0.9960  0.9927  0.9982  0.0063  \n",
      "MAE (testset)     0.7702  0.7826  0.7735  0.7703  0.7697  0.7733  0.0049  \n",
      "Fit time          0.07    0.09    0.08    0.07    0.08    0.08    0.01    \n",
      "Test time         0.79    0.73    0.71    0.73    0.75    0.74    0.03    \n"
     ]
    }
   ],
   "source": [
    "sim_options = {'name':'pearson', 'user_based': True}\n",
    "u_pearson = KNNBasic(sim_options=sim_options);\n",
    "crosvali_u_pearson = cross_validate(u_pearson, dataset, measures=['RMSE', 'MAE'], cv=5, verbose=True);"
   ]
  },
  {
   "cell_type": "code",
   "execution_count": 13,
   "id": "f4e213a2",
   "metadata": {},
   "outputs": [
    {
     "data": {
      "image/png": "[encoded data removed]",
      "text/plain": [
       "<Figure size 432x288 with 1 Axes>"
      ]
     },
     "metadata": {
      "needs_background": "light"
     },
     "output_type": "display_data"
    }
   ],
   "source": [
    "x = [0,1,2]\n",
    "y_mae = [crosvali_u_cos['test_mae'].mean(),crosvali_u_msd['test_mae'].mean(),crosvali_u_pearson['test_mae'].mean()]\n",
    "y_rmse = [crosvali_u_cos['test_rmse'].mean(),crosvali_u_msd['test_rmse'].mean(),crosvali_u_pearson['test_rmse'].mean()]\n",
    "plt.plot(x, y_mae)\n",
    "plt.plot(x, y_rmse)\n",
    "plt.title('User-based Collaborative Filtering(With 5-fold CV)')\n",
    "plt.legend(['MAE','RMSE'])\n",
    "plt.xticks(x,['Cosine','MSD','Pearson'])\n",
    "plt.ylabel('Average')\n",
    "plt.show()"
   ]
  },
  {
   "cell_type": "code",
   "execution_count": 14,
   "id": "99b0c9be",
   "metadata": {},
   "outputs": [
    {
     "name": "stdout",
     "output_type": "stream",
     "text": [
      "Computing the cosine similarity matrix...\n",
      "Done computing similarity matrix.\n",
      "Computing the cosine similarity matrix...\n",
      "Done computing similarity matrix.\n",
      "Computing the cosine similarity matrix...\n",
      "Done computing similarity matrix.\n",
      "Computing the cosine similarity matrix...\n",
      "Done computing similarity matrix.\n",
      "Computing the cosine similarity matrix...\n",
      "Done computing similarity matrix.\n",
      "Evaluating RMSE, MAE of algorithm KNNBasic on 5 split(s).\n",
      "\n",
      "                  Fold 1  Fold 2  Fold 3  Fold 4  Fold 5  Mean    Std     \n",
      "RMSE (testset)    0.9900  0.9947  0.9980  0.9973  0.9962  0.9952  0.0029  \n",
      "MAE (testset)     0.7690  0.7767  0.7773  0.7771  0.7766  0.7753  0.0032  \n",
      "Fit time          2.96    2.59    2.68    2.70    3.20    2.82    0.22    \n",
      "Test time         2.96    3.20    2.97    3.07    3.07    3.05    0.09    \n"
     ]
    }
   ],
   "source": [
    "sim_options = {'name':'cosine', 'user_based': False}\n",
    "i_cos = KNNBasic(sim_options=sim_options);\n",
    "crosvali_i_cos = cross_validate(i_cos, dataset, measures=['RMSE', 'MAE'], cv=5, verbose=True);"
   ]
  },
  {
   "cell_type": "code",
   "execution_count": 15,
   "id": "d4a489f4",
   "metadata": {},
   "outputs": [
    {
     "name": "stdout",
     "output_type": "stream",
     "text": [
      "Computing the msd similarity matrix...\n",
      "Done computing similarity matrix.\n",
      "Computing the msd similarity matrix...\n",
      "Done computing similarity matrix.\n",
      "Computing the msd similarity matrix...\n",
      "Done computing similarity matrix.\n",
      "Computing the msd similarity matrix...\n",
      "Done computing similarity matrix.\n",
      "Computing the msd similarity matrix...\n",
      "Done computing similarity matrix.\n",
      "Evaluating RMSE, MAE of algorithm KNNBasic on 5 split(s).\n",
      "\n",
      "                  Fold 1  Fold 2  Fold 3  Fold 4  Fold 5  Mean    Std     \n",
      "RMSE (testset)    0.9461  0.9370  0.9312  0.9221  0.9394  0.9351  0.0081  \n",
      "MAE (testset)     0.7313  0.7216  0.7174  0.7125  0.7236  0.7213  0.0063  \n",
      "Fit time          1.42    1.43    1.38    1.40    1.52    1.43    0.05    \n",
      "Test time         3.03    3.13    3.15    3.08    3.16    3.11    0.05    \n"
     ]
    }
   ],
   "source": [
    "sim_options = {'name':'msd', 'user_based': False}\n",
    "i_msd = KNNBasic(sim_options=sim_options);\n",
    "crosvali_i_msd = cross_validate(i_msd, dataset, measures=['RMSE', 'MAE'], cv=5, verbose=True);"
   ]
  },
  {
   "cell_type": "code",
   "execution_count": 16,
   "id": "48e89c4d",
   "metadata": {},
   "outputs": [
    {
     "name": "stdout",
     "output_type": "stream",
     "text": [
      "Computing the pearson similarity matrix...\n",
      "Done computing similarity matrix.\n",
      "Computing the pearson similarity matrix...\n",
      "Done computing similarity matrix.\n",
      "Computing the pearson similarity matrix...\n",
      "Done computing similarity matrix.\n",
      "Computing the pearson similarity matrix...\n",
      "Done computing similarity matrix.\n",
      "Computing the pearson similarity matrix...\n",
      "Done computing similarity matrix.\n",
      "Evaluating RMSE, MAE of algorithm KNNBasic on 5 split(s).\n",
      "\n",
      "                  Fold 1  Fold 2  Fold 3  Fold 4  Fold 5  Mean    Std     \n",
      "RMSE (testset)    0.9851  0.9893  0.9944  0.9882  0.9927  0.9899  0.0033  \n",
      "MAE (testset)     0.7662  0.7662  0.7730  0.7646  0.7693  0.7679  0.0030  \n",
      "Fit time          4.92    4.87    5.22    4.50    4.45    4.79    0.29    \n",
      "Test time         3.03    3.03    3.21    3.00    3.20    3.09    0.09    \n"
     ]
    }
   ],
   "source": [
    "sim_options = {'name':'pearson', 'user_based': False}\n",
    "i_pearson = KNNBasic(sim_options=sim_options);\n",
    "crosvali_i_pearson = cross_validate(i_pearson, dataset, measures=['RMSE', 'MAE'], cv=5, verbose=True);"
   ]
  },
  {
   "cell_type": "code",
   "execution_count": 17,
   "id": "ed8edce2",
   "metadata": {},
   "outputs": [
    {
     "data": {
      "image/png": "[encoded data removed]",
      "text/plain": [
       "<Figure size 432x288 with 1 Axes>"
      ]
     },
     "metadata": {
      "needs_background": "light"
     },
     "output_type": "display_data"
    }
   ],
   "source": [
    "x = [0,1,2]\n",
    "y_mae = [crosvali_i_cos['test_mae'].mean(),crosvali_i_msd['test_mae'].mean(),crosvali_i_pearson['test_mae'].mean()]\n",
    "y_rmse = [crosvali_i_cos['test_rmse'].mean(),crosvali_i_msd['test_rmse'].mean(),crosvali_i_pearson['test_rmse'].mean()]\n",
    "plt.plot(x, y_mae)\n",
    "plt.plot(x, y_rmse)\n",
    "plt.title('Item-based Collaborative Filtering(With 5-fold CV)')\n",
    "plt.legend(['MAE','RMSE'])\n",
    "plt.xticks(x,['Cosine','MSD','Pearson'])\n",
    "plt.ylabel('Average')\n",
    "plt.show()"
   ]
  },
  {
   "cell_type": "code",
   "execution_count": 18,
   "id": "efaa7e55",
   "metadata": {},
   "outputs": [],
   "source": [
    "trainset, testset = train_test_split(dataset, test_size = 0.25, random_state = 42)"
   ]
  },
  {
   "cell_type": "code",
   "execution_count": 19,
   "id": "06912b7c",
   "metadata": {},
   "outputs": [
    {
     "name": "stdout",
     "output_type": "stream",
     "text": [
      "Computing the msd similarity matrix...\n",
      "Done computing similarity matrix.\n",
      "MAE:  0.9063\n",
      "RMSE: 1.2110\n",
      "Computing the msd similarity matrix...\n",
      "Done computing similarity matrix.\n",
      "MAE:  0.7878\n",
      "RMSE: 1.0270\n",
      "Computing the msd similarity matrix...\n",
      "Done computing similarity matrix.\n",
      "MAE:  0.7612\n",
      "RMSE: 0.9913\n",
      "Computing the msd similarity matrix...\n",
      "Done computing similarity matrix.\n",
      "MAE:  0.7494\n",
      "RMSE: 0.9772\n",
      "Computing the msd similarity matrix...\n",
      "Done computing similarity matrix.\n",
      "MAE:  0.7451\n",
      "RMSE: 0.9721\n",
      "Computing the msd similarity matrix...\n",
      "Done computing similarity matrix.\n",
      "MAE:  0.7426\n",
      "RMSE: 0.9684\n",
      "Computing the msd similarity matrix...\n",
      "Done computing similarity matrix.\n",
      "MAE:  0.7415\n",
      "RMSE: 0.9665\n",
      "Computing the msd similarity matrix...\n",
      "Done computing similarity matrix.\n",
      "MAE:  0.7420\n",
      "RMSE: 0.9664\n",
      "Computing the msd similarity matrix...\n",
      "Done computing similarity matrix.\n",
      "MAE:  0.7426\n",
      "RMSE: 0.9666\n",
      "Computing the msd similarity matrix...\n",
      "Done computing similarity matrix.\n",
      "MAE:  0.7428\n",
      "RMSE: 0.9665\n",
      "Computing the msd similarity matrix...\n",
      "Done computing similarity matrix.\n",
      "MAE:  0.7431\n",
      "RMSE: 0.9668\n",
      "Computing the msd similarity matrix...\n",
      "Done computing similarity matrix.\n",
      "MAE:  0.7436\n",
      "RMSE: 0.9670\n",
      "Computing the msd similarity matrix...\n",
      "Done computing similarity matrix.\n",
      "MAE:  0.7439\n",
      "RMSE: 0.9675\n",
      "Computing the msd similarity matrix...\n",
      "Done computing similarity matrix.\n",
      "MAE:  0.7449\n",
      "RMSE: 0.9683\n",
      "Computing the msd similarity matrix...\n",
      "Done computing similarity matrix.\n",
      "MAE:  0.7455\n",
      "RMSE: 0.9688\n",
      "Computing the msd similarity matrix...\n",
      "Done computing similarity matrix.\n",
      "MAE:  0.7461\n",
      "RMSE: 0.9694\n",
      "Computing the msd similarity matrix...\n",
      "Done computing similarity matrix.\n",
      "MAE:  0.7467\n",
      "RMSE: 0.9700\n",
      "Computing the msd similarity matrix...\n",
      "Done computing similarity matrix.\n",
      "MAE:  0.7473\n",
      "RMSE: 0.9704\n",
      "Computing the msd similarity matrix...\n",
      "Done computing similarity matrix.\n",
      "MAE:  0.7478\n",
      "RMSE: 0.9709\n",
      "Computing the msd similarity matrix...\n",
      "Done computing similarity matrix.\n",
      "MAE:  0.7482\n",
      "RMSE: 0.9713\n",
      "Computing the msd similarity matrix...\n",
      "Done computing similarity matrix.\n",
      "MAE:  0.7486\n",
      "RMSE: 0.9716\n",
      "Computing the msd similarity matrix...\n",
      "Done computing similarity matrix.\n",
      "MAE:  0.7490\n",
      "RMSE: 0.9719\n",
      "Computing the msd similarity matrix...\n",
      "Done computing similarity matrix.\n",
      "MAE:  0.7494\n",
      "RMSE: 0.9722\n",
      "Computing the msd similarity matrix...\n",
      "Done computing similarity matrix.\n",
      "MAE:  0.7497\n",
      "RMSE: 0.9726\n",
      "Computing the msd similarity matrix...\n",
      "Done computing similarity matrix.\n",
      "MAE:  0.7500\n",
      "RMSE: 0.9729\n"
     ]
    }
   ],
   "source": [
    "ubc_mae = []\n",
    "ubc_rmse = []\n",
    "k1 = list(np.arange(1,50,2))\n",
    "for i in k1:\n",
    "  ubc = KNNBasic(k = i, sim_options = {'user_based' : True})\n",
    "  ubc.fit(trainset)\n",
    "  predict = ubc.test(testset)\n",
    "  ubc_mae.append(accuracy.mae(predict))\n",
    "  ubc_rmse.append(accuracy.rmse(predict))"
   ]
  },
  {
   "cell_type": "code",
   "execution_count": 20,
   "id": "b46cbdda",
   "metadata": {},
   "outputs": [
    {
     "data": {
      "image/png": "[encoded data removed]",
      "text/plain": [
       "<Figure size 432x288 with 1 Axes>"
      ]
     },
     "metadata": {
      "needs_background": "light"
     },
     "output_type": "display_data"
    }
   ],
   "source": [
    "plt.plot(k1,ubc_mae)\n",
    "plt.plot(k1,ubc_rmse)\n",
    "plt.xlabel('Number of Neighbors')\n",
    "plt.ylabel('Testset')\n",
    "plt.legend(['MAE','RMSE'])\n",
    "plt.title('User-based Collaborative Filtering')\n",
    "plt.show()"
   ]
  },
  {
   "cell_type": "code",
   "execution_count": 21,
   "id": "b648121a",
   "metadata": {},
   "outputs": [
    {
     "name": "stdout",
     "output_type": "stream",
     "text": [
      "Best Value of K :  8\n",
      "Minimum RMSE :  0.9663589276453397\n"
     ]
    }
   ],
   "source": [
    "k_ubc = ubc_rmse.index(min(ubc_rmse))+1\n",
    "print('Best Value of K : ', k_ubc)\n",
    "print('Minimum RMSE : ', min(ubc_rmse))"
   ]
  },
  {
   "cell_type": "code",
   "execution_count": 22,
   "id": "95fdceeb",
   "metadata": {},
   "outputs": [
    {
     "name": "stdout",
     "output_type": "stream",
     "text": [
      "Computing the msd similarity matrix...\n",
      "Done computing similarity matrix.\n",
      "MAE:  0.9703\n",
      "RMSE: 1.3138\n",
      "Computing the msd similarity matrix...\n",
      "Done computing similarity matrix.\n",
      "MAE:  0.8337\n",
      "RMSE: 1.0839\n",
      "Computing the msd similarity matrix...\n",
      "Done computing similarity matrix.\n",
      "MAE:  0.7966\n",
      "RMSE: 1.0277\n",
      "Computing the msd similarity matrix...\n",
      "Done computing similarity matrix.\n",
      "MAE:  0.7765\n",
      "RMSE: 1.0013\n",
      "Computing the msd similarity matrix...\n",
      "Done computing similarity matrix.\n",
      "MAE:  0.7659\n",
      "RMSE: 0.9867\n",
      "Computing the msd similarity matrix...\n",
      "Done computing similarity matrix.\n",
      "MAE:  0.7581\n",
      "RMSE: 0.9768\n",
      "Computing the msd similarity matrix...\n",
      "Done computing similarity matrix.\n",
      "MAE:  0.7515\n",
      "RMSE: 0.9687\n",
      "Computing the msd similarity matrix...\n",
      "Done computing similarity matrix.\n",
      "MAE:  0.7474\n",
      "RMSE: 0.9639\n",
      "Computing the msd similarity matrix...\n",
      "Done computing similarity matrix.\n",
      "MAE:  0.7445\n",
      "RMSE: 0.9602\n",
      "Computing the msd similarity matrix...\n",
      "Done computing similarity matrix.\n",
      "MAE:  0.7419\n",
      "RMSE: 0.9569\n",
      "Computing the msd similarity matrix...\n",
      "Done computing similarity matrix.\n",
      "MAE:  0.7394\n",
      "RMSE: 0.9543\n",
      "Computing the msd similarity matrix...\n",
      "Done computing similarity matrix.\n",
      "MAE:  0.7378\n",
      "RMSE: 0.9526\n",
      "Computing the msd similarity matrix...\n",
      "Done computing similarity matrix.\n",
      "MAE:  0.7361\n",
      "RMSE: 0.9505\n",
      "Computing the msd similarity matrix...\n",
      "Done computing similarity matrix.\n",
      "MAE:  0.7350\n",
      "RMSE: 0.9491\n",
      "Computing the msd similarity matrix...\n",
      "Done computing similarity matrix.\n",
      "MAE:  0.7339\n",
      "RMSE: 0.9477\n",
      "Computing the msd similarity matrix...\n",
      "Done computing similarity matrix.\n",
      "MAE:  0.7333\n",
      "RMSE: 0.9469\n",
      "Computing the msd similarity matrix...\n",
      "Done computing similarity matrix.\n",
      "MAE:  0.7329\n",
      "RMSE: 0.9462\n",
      "Computing the msd similarity matrix...\n",
      "Done computing similarity matrix.\n",
      "MAE:  0.7325\n",
      "RMSE: 0.9457\n",
      "Computing the msd similarity matrix...\n",
      "Done computing similarity matrix.\n",
      "MAE:  0.7317\n",
      "RMSE: 0.9448\n",
      "Computing the msd similarity matrix...\n",
      "Done computing similarity matrix.\n",
      "MAE:  0.7311\n",
      "RMSE: 0.9443\n",
      "Computing the msd similarity matrix...\n",
      "Done computing similarity matrix.\n",
      "MAE:  0.7307\n",
      "RMSE: 0.9437\n",
      "Computing the msd similarity matrix...\n",
      "Done computing similarity matrix.\n",
      "MAE:  0.7302\n",
      "RMSE: 0.9433\n",
      "Computing the msd similarity matrix...\n",
      "Done computing similarity matrix.\n",
      "MAE:  0.7300\n",
      "RMSE: 0.9430\n",
      "Computing the msd similarity matrix...\n",
      "Done computing similarity matrix.\n",
      "MAE:  0.7297\n",
      "RMSE: 0.9427\n",
      "Computing the msd similarity matrix...\n",
      "Done computing similarity matrix.\n",
      "MAE:  0.7296\n",
      "RMSE: 0.9425\n"
     ]
    }
   ],
   "source": [
    "ibc_mae = []\n",
    "ibc_rmse = []\n",
    "for i in k1:\n",
    "  ibc = KNNBasic(k = i, sim_options = {'user_based' : False})\n",
    "  ibc.fit(trainset)\n",
    "  predict = ibc.test(testset)\n",
    "  ibc_mae.append(accuracy.mae(predict))\n",
    "  ibc_rmse.append(accuracy.rmse(predict))"
   ]
  },
  {
   "cell_type": "code",
   "execution_count": 23,
   "id": "e85025c4",
   "metadata": {},
   "outputs": [
    {
     "data": {
      "image/png": "[encoded data removed]",
      "text/plain": [
       "<Figure size 432x288 with 1 Axes>"
      ]
     },
     "metadata": {
      "needs_background": "light"
     },
     "output_type": "display_data"
    }
   ],
   "source": [
    "plt.plot(k1,ibc_mae)\n",
    "plt.plot(k1,ibc_rmse)\n",
    "plt.xlabel('Number of Neighbors')\n",
    "plt.ylabel('Testset')\n",
    "plt.legend(['MAE','RMSE'])\n",
    "plt.title('Item-based Collaborative Filtering')\n",
    "plt.show()"
   ]
  },
  {
   "cell_type": "code",
   "execution_count": 26,
   "id": "5f01d55f",
   "metadata": {},
   "outputs": [
    {
     "name": "stdout",
     "output_type": "stream",
     "text": [
      "Best Value of K :  25\n",
      "Minimum RMSE :  0.942461002786997\n"
     ]
    }
   ],
   "source": [
    "k_ibc = ibc_rmse.index(min(ibc_rmse))+1\n",
    "print('Best Value of K : ', k_ibc)\n",
    "print('Minimum RMSE : ', min(ibc_rmse))"
   ]
  },
  {
   "cell_type": "code",
   "execution_count": null,
   "id": "d7bc2dfc",
   "metadata": {},
   "outputs": [],
   "source": []
  }
 ],
 "metadata": {
  "kernelspec": {
   "display_name": "Python 3 (ipykernel)",
   "language": "python",
   "name": "python3"
  },
  "language_info": {
   "codemirror_mode": {
    "name": "ipython",
    "version": 3
   },
   "file_extension": ".py",
   "mimetype": "text/x-python",
   "name": "python",
   "nbconvert_exporter": "python",
   "pygments_lexer": "ipython3",
   "version": "3.9.12"
  }
 },
 "nbformat": 4,
 "nbformat_minor": 5
}
