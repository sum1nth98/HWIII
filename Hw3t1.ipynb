{
 "cells": [
  {
   "cell_type": "code",
   "execution_count": 1,
   "id": "dd9944c3",
   "metadata": {},
   "outputs": [],
   "source": [
    "import numpy as np\n",
    "import pandas as pd\n",
    "#from sklearn.cluster import KMeans\n",
    "import scipy \n",
    "import sklearn\n",
    "from collections import Counter\n",
    "from sklearn.metrics import multilabel_confusion_matrix\n",
    "from scipy import spatial"
   ]
  },
  {
   "cell_type": "code",
   "execution_count": 2,
   "id": "748d54a2",
   "metadata": {},
   "outputs": [],
   "source": [
    "dataset = pd.read_csv('data.csv')\n",
    "labels = pd.read_csv('label.csv',names=['label'],header=None)"
   ]
  },
  {
   "cell_type": "code",
   "execution_count": 3,
   "id": "e68c87c5",
   "metadata": {},
   "outputs": [
    {
     "data": {
      "text/plain": [
       "0        9999\n",
       "0.1      9999\n",
       "0.2      9999\n",
       "0.3      9999\n",
       "0.4      9999\n",
       "         ... \n",
       "0.663    9999\n",
       "0.664    9999\n",
       "0.665    9999\n",
       "0.666    9999\n",
       "0.667    9999\n",
       "Length: 784, dtype: int64"
      ]
     },
     "execution_count": 3,
     "metadata": {},
     "output_type": "execute_result"
    }
   ],
   "source": [
    "dataset.count()"
   ]
  },
  {
   "cell_type": "code",
   "execution_count": 4,
   "id": "7059751a",
   "metadata": {},
   "outputs": [],
   "source": [
    "from sklearn.model_selection import train_test_split\n",
    "train_values, test_values = train_test_split( dataset, test_size=0.08, random_state=50)\n",
    "train_label_val, test_label_val = train_test_split( labels, test_size=0.08, random_state=50)"
   ]
  },
  {
   "cell_type": "code",
   "execution_count": 5,
   "id": "c4604685",
   "metadata": {},
   "outputs": [],
   "source": [
    "def calculate_SSE(centroid_value_dict, centroid_dict,data):\n",
    "    sse = 0\n",
    "    for i in centroid_dict:\n",
    "        sse_cluster = 0\n",
    "        for j in centroid_dict[i]:\n",
    "            dp = list(data.iloc[int(j)])\n",
    "            for a,b in zip(centroid_value_dict[i],dp):\n",
    "                sse_cluster += (a-b)**2\n",
    "        sse+=sse_cluster\n",
    "    return sse   \n",
    "    \n",
    "def Initialize_Centroids(data,K):\n",
    "    p = data.shape[0]\n",
    "    centroid_value_dict={}\n",
    "    for i in range(K):\n",
    "        r = np.random.randint(0, p-1)\n",
    "        centroid_value_dict[i] = data.iloc[r]\n",
    "    return centroid_value_dict\n",
    "\n",
    "def jaccard_similarity(centroid, dp):\n",
    "    top = len(list(set(centroid).intersection(dp)))\n",
    "    bottom = (len(set(centroid)) + len(set(dp))) - top\n",
    "    return float(top) / bottom\n",
    "\n",
    "def train_Kmeans(data,K,max_iter=20,mode=1,tol=10):\n",
    "    centroid_value_dict = Initialize_Centroids(data,K)\n",
    "    count = 0\n",
    "    centroid_dict = {}\n",
    "    flag = False\n",
    "    while((count<max_iter) and not flag):\n",
    "            \n",
    "        for i in list(centroid_value_dict.keys()):\n",
    "            centroid_dict[i]=[]\n",
    "        for i in range(data.shape[0]):\n",
    "            x = data.iloc[i]\n",
    "            if mode==1 :\n",
    "                distance_measure = [np.linalg.norm(x-centroid_value_dict[j])  for j in centroid_value_dict]\n",
    "                idx = np.argmin(distance_measure)\n",
    "                centroid_dict[idx].append(i)\n",
    "            elif mode==2 :\n",
    "                distance_measure = [jaccard_similarity(list(x),centroid_value_dict[j]) for j in centroid_value_dict]\n",
    "                idx = np.argmax(distance_measure)\n",
    "                centroid_dict[idx].append(i)\n",
    "            elif mode==3 :\n",
    "                distance_measure = [1-scipy.spatial.distance.cosine(x,list(centroid_value_dict[j]))  for j in centroid_value_dict]\n",
    "                idx = np.argmax(distance_measure)\n",
    "                centroid_dict[idx].append(i)\n",
    "                \n",
    "            prev_centroids=dict(centroid_value_dict)\n",
    "        for i in centroid_dict:\n",
    "            if len(centroid_dict[i]):\n",
    "                dps_centroid = centroid_dict[i]\n",
    "                centroid_value_dict[i] = np.average(data.iloc[dps_centroid],axis=0)\n",
    "        current_tol=-1\n",
    "        for i in centroid_value_dict:\n",
    "            prev_centroid_point = prev_centroids[i]\n",
    "            new_centroid_point = centroid_value_dict[i]\n",
    "            change = np.sum(np.absolute(new_centroid_point-prev_centroid_point))\n",
    "            current_tol = max(change, current_tol)\n",
    "                \n",
    "        print(\"Iteration \",count,\": \",current_tol)\n",
    "            \n",
    "        count+=1\n",
    "        if (current_tol<10):\n",
    "            flag = True\n",
    "            break\n",
    "    return centroid_value_dict,centroid_dict\n"
   ]
  },
  {
   "cell_type": "code",
   "execution_count": 6,
   "id": "4d23db84",
   "metadata": {},
   "outputs": [],
   "source": [
    "def predict_cluster_labels(C, S, labels):\n",
    "    cluster_labels = np.zeros(10,dtype=int)\n",
    "    for c in C:\n",
    "        labels_of_points = []\n",
    "        for point in S[c]:\n",
    "            labels_of_points.extend(labels.iloc[point])\n",
    "        counter = Counter(labels_of_points)\n",
    "        try:\n",
    "            cluster_labels[c] = max(counter, key=counter.get)\n",
    "        except:\n",
    "            cluster_labels[c] = np.random.randint(0,9)\n",
    "    return cluster_labels"
   ]
  },
  {
   "cell_type": "code",
   "execution_count": 7,
   "id": "7b89ce39",
   "metadata": {},
   "outputs": [],
   "source": [
    "def accuracy(centroids, centroid_Labels, test_data, true_labels, mode=1):\n",
    "    y_true = list(true_labels['label']);\n",
    "    y_pred = []\n",
    "    for index in range(test_data.shape[0]):\n",
    "        featureset = test_data.iloc[index]\n",
    "        if mode==1:\n",
    "            distances = [np.linalg.norm(featureset - centroids[centroid]) for centroid in centroids]\n",
    "            classification = distances.index(min(distances))\n",
    "            y_pred.append(centroid_Labels[classification])\n",
    "        elif mode==2:\n",
    "            similarity = [jaccard_similarity(featureset, centroids[centroid]) for centroid in centroids]\n",
    "            classification = similarity.index(max(similarity))\n",
    "            y_pred.append(centroid_Labels[classification]) \n",
    "        elif mode==3:\n",
    "            similarity = [1 - spatial.distance.cosine(featureset, centroids[centroid]) for centroid in centroids]\n",
    "            classification = similarity.index(max(similarity))\n",
    "            y_pred.append(centroid_Labels[classification])\n",
    "    denominator = test_data.shape[0]\n",
    "    correctly_classified = 0\n",
    "    for i in range(0,len(y_pred)):\n",
    "        if y_true[i] == y_pred[i]:\n",
    "            correctly_classified += 1\n",
    "    accuracy = correctly_classified/denominator\n",
    "    return accuracy"
   ]
  },
  {
   "cell_type": "code",
   "execution_count": 8,
   "id": "c5872955",
   "metadata": {},
   "outputs": [
    {
     "name": "stdout",
     "output_type": "stream",
     "text": [
      "Iteration  0 :  25624.32177263969\n",
      "Iteration  1 :  6119.102931870913\n",
      "Iteration  2 :  5338.716647614565\n",
      "Iteration  3 :  3496.4544506585753\n",
      "Iteration  4 :  2094.7911908646\n",
      "Iteration  5 :  1569.5301794453508\n",
      "Iteration  6 :  1167.220228384992\n",
      "Iteration  7 :  1420.5918003000609\n",
      "Iteration  8 :  1198.0205572743366\n",
      "Iteration  9 :  971.532362479424\n",
      "Iteration  10 :  1047.037965260546\n",
      "Iteration  11 :  1007.4094803548795\n",
      "Iteration  12 :  861.5118947615188\n",
      "Iteration  13 :  827.3789802507811\n",
      "Iteration  14 :  983.4956716374859\n"
     ]
    }
   ],
   "source": [
    "centroids1,clusters1 = train_Kmeans(dataset,10, max_iter=100,mode=1)"
   ]
  },
  {
   "cell_type": "code",
   "execution_count": 9,
   "id": "caa12bf2",
   "metadata": {},
   "outputs": [],
   "source": [
    "Euclidean_SSE =calculate_SSE(centroids1,clusters1,dataset)"
   ]
  },
  {
   "cell_type": "code",
   "execution_count": 10,
   "id": "6e70b5fa",
   "metadata": {},
   "outputs": [
    {
     "name": "stdout",
     "output_type": "stream",
     "text": [
      "Euclidean SSE: 25434834684.725998\n"
     ]
    }
   ],
   "source": [
    "print(\"Euclidean SSE:\",Euclidean_SSE)"
   ]
  },
  {
   "cell_type": "code",
   "execution_count": 11,
   "id": "54a5e2d8",
   "metadata": {},
   "outputs": [
    {
     "data": {
      "text/plain": [
       "array([8, 6, 5, 0, 1, 7, 3, 9, 2, 0])"
      ]
     },
     "execution_count": 11,
     "metadata": {},
     "output_type": "execute_result"
    }
   ],
   "source": [
    "cluster_labels_euc = predict_cluster_labels(centroids1,clusters1,labels)\n",
    "cluster_labels_euc"
   ]
  },
  {
   "cell_type": "code",
   "execution_count": 12,
   "id": "e245deb9",
   "metadata": {},
   "outputs": [
    {
     "data": {
      "text/plain": [
       "0.09875"
      ]
     },
     "execution_count": 12,
     "metadata": {},
     "output_type": "execute_result"
    }
   ],
   "source": [
    "Accuracy_Euclidean = accuracy(centroids1, cluster_labels_euc,test_values,test_label_val)\n",
    "Accuracy_Euclidean"
   ]
  },
  {
   "cell_type": "code",
   "execution_count": 13,
   "id": "01367bc0",
   "metadata": {
    "scrolled": true
   },
   "outputs": [
    {
     "name": "stdout",
     "output_type": "stream",
     "text": [
      "Iteration  0 :  37217.776639344265\n",
      "Iteration  1 :  9612.821133966794\n",
      "Iteration  2 :  3276.5830141153647\n",
      "Iteration  3 :  2355.113684198609\n",
      "Iteration  4 :  2837.229764956018\n",
      "Iteration  5 :  2553.6423672288493\n",
      "Iteration  6 :  820.6426359053817\n",
      "Iteration  7 :  1942.9338571839382\n",
      "Iteration  8 :  1119.9329459585301\n",
      "Iteration  9 :  1246.5237283728375\n",
      "Iteration  10 :  1646.1386026867992\n",
      "Iteration  11 :  116.34187960928277\n",
      "Iteration  12 :  0.0\n"
     ]
    }
   ],
   "source": [
    "centroids2,clusters2 =train_Kmeans(dataset,10, max_iter=100,mode=2)"
   ]
  },
  {
   "cell_type": "code",
   "execution_count": 14,
   "id": "b73af4af",
   "metadata": {},
   "outputs": [],
   "source": [
    "Jaccard_SSE =calculate_SSE(centroids2,clusters2,dataset)"
   ]
  },
  {
   "cell_type": "code",
   "execution_count": 15,
   "id": "b192ac22",
   "metadata": {},
   "outputs": [
    {
     "name": "stdout",
     "output_type": "stream",
     "text": [
      "Jacard SSE: 34361687572.938736\n"
     ]
    }
   ],
   "source": [
    "print(\"Jacard SSE:\",Jaccard_SSE)"
   ]
  },
  {
   "cell_type": "code",
   "execution_count": 16,
   "id": "14e72ee8",
   "metadata": {},
   "outputs": [
    {
     "data": {
      "text/plain": [
       "array([1, 6, 5, 1, 2, 1, 7, 8, 8, 0])"
      ]
     },
     "execution_count": 16,
     "metadata": {},
     "output_type": "execute_result"
    }
   ],
   "source": [
    "cluster_labels_jac = predict_cluster_labels(centroids2,clusters2,labels)\n",
    "cluster_labels_jac"
   ]
  },
  {
   "cell_type": "code",
   "execution_count": 17,
   "id": "b256f98b",
   "metadata": {},
   "outputs": [
    {
     "data": {
      "text/plain": [
       "0.1025"
      ]
     },
     "execution_count": 17,
     "metadata": {},
     "output_type": "execute_result"
    }
   ],
   "source": [
    "Accuracy_Jaccard = accuracy(centroids2, cluster_labels_jac,test_values,test_label_val,mode=2)\n",
    "Accuracy_Jaccard"
   ]
  },
  {
   "cell_type": "code",
   "execution_count": 18,
   "id": "91e785f0",
   "metadata": {},
   "outputs": [
    {
     "name": "stdout",
     "output_type": "stream",
     "text": [
      "Iteration  0 :  27198.213917525776\n",
      "Iteration  1 :  6398.648635498203\n",
      "Iteration  2 :  3557.2468412234307\n",
      "Iteration  3 :  2470.6077521838856\n",
      "Iteration  4 :  2089.1670165310943\n",
      "Iteration  5 :  2392.819234819235\n",
      "Iteration  6 :  2275.8581003627733\n",
      "Iteration  7 :  1937.2847105493174\n",
      "Iteration  8 :  1399.0095963185058\n",
      "Iteration  9 :  1001.597255531487\n",
      "Iteration  10 :  780.8525273202531\n",
      "Iteration  11 :  782.6767824709202\n",
      "Iteration  12 :  910.6318325553382\n",
      "Iteration  13 :  689.1045614401096\n",
      "Iteration  14 :  584.052697821099\n",
      "Iteration  15 :  549.1289843639472\n",
      "Iteration  16 :  665.7922189280317\n",
      "Iteration  17 :  653.3415893950885\n",
      "Iteration  18 :  597.3564354692385\n",
      "Iteration  19 :  759.9313321559746\n",
      "Iteration  20 :  898.3902089532753\n",
      "Iteration  21 :  1232.8237647790536\n",
      "Iteration  22 :  1328.1480376240393\n",
      "Iteration  23 :  1311.4781847526244\n",
      "Iteration  24 :  1133.3659827653707\n",
      "Iteration  25 :  673.77949533985\n",
      "Iteration  26 :  656.3510791366907\n",
      "Iteration  27 :  757.0128450727791\n",
      "Iteration  28 :  671.4908253797555\n",
      "Iteration  29 :  609.1202921463034\n",
      "Iteration  30 :  413.0238936910326\n",
      "Iteration  31 :  360.68235159130836\n",
      "Iteration  32 :  345.1118327126006\n",
      "Iteration  33 :  287.4141004924594\n",
      "Iteration  34 :  307.98828557526144\n",
      "Iteration  35 :  234.16857156484016\n",
      "Iteration  36 :  142.06110612855014\n",
      "Iteration  37 :  170.02751112613134\n",
      "Iteration  38 :  116.23157246437665\n",
      "Iteration  39 :  118.44497507505007\n",
      "Iteration  40 :  71.78708709772663\n",
      "Iteration  41 :  72.0110821526653\n",
      "Iteration  42 :  43.8570750237417\n",
      "Iteration  43 :  28.397031539888665\n",
      "Iteration  44 :  20.865006726924662\n",
      "Iteration  45 :  23.77994428969345\n",
      "Iteration  46 :  19.838342845996255\n",
      "Iteration  47 :  0.0\n"
     ]
    }
   ],
   "source": [
    "centroids3,clusters3 =train_Kmeans(dataset,10, max_iter = 100,mode=3)"
   ]
  },
  {
   "cell_type": "code",
   "execution_count": 19,
   "id": "6558db0d",
   "metadata": {},
   "outputs": [],
   "source": [
    "Cosine_SSE = calculate_SSE(centroids3,clusters3,dataset)"
   ]
  },
  {
   "cell_type": "code",
   "execution_count": 20,
   "id": "4e06d531",
   "metadata": {},
   "outputs": [
    {
     "data": {
      "text/plain": [
       "array([0, 9, 1, 2, 7, 3, 0, 2, 8, 3])"
      ]
     },
     "execution_count": 20,
     "metadata": {},
     "output_type": "execute_result"
    }
   ],
   "source": [
    "cluster_labels_cos = predict_cluster_labels(centroids3,clusters3,labels)\n",
    "cluster_labels_cos"
   ]
  },
  {
   "cell_type": "code",
   "execution_count": 21,
   "id": "2b7528b3",
   "metadata": {},
   "outputs": [],
   "source": [
    "Accuracy_Cosine = accuracy(centroids3, cluster_labels_cos,test_values,test_label_val,mode=3)"
   ]
  },
  {
   "cell_type": "code",
   "execution_count": 22,
   "id": "989f8abc",
   "metadata": {},
   "outputs": [
    {
     "name": "stdout",
     "output_type": "stream",
     "text": [
      "Euclidean accuracy: 0.09875\n",
      "Jacard accuracy: 0.1025\n",
      "Cosine accuracy : 0.1\n"
     ]
    }
   ],
   "source": [
    "print(\"Euclidean accuracy:\",Accuracy_Euclidean)\n",
    "print(\"Jacard accuracy:\",Accuracy_Jaccard)\n",
    "print(\"Cosine accuracy :\",Accuracy_Cosine)"
   ]
  },
  {
   "cell_type": "code",
   "execution_count": 23,
   "id": "cc2fe13e",
   "metadata": {},
   "outputs": [
    {
     "name": "stdout",
     "output_type": "stream",
     "text": [
      "Euclidean SSE: 25434834684.725998\n",
      "Jacard SSE: 34361687572.938736\n",
      "Cosine SSE : 25604633179.236507\n"
     ]
    }
   ],
   "source": [
    "print(\"Euclidean SSE:\",Euclidean_SSE)\n",
    "print(\"Jacard SSE:\",Jaccard_SSE)\n",
    "print(\"Cosine SSE :\",Cosine_SSE)"
   ]
  },
  {
   "cell_type": "code",
   "execution_count": null,
   "id": "2c788e68",
   "metadata": {},
   "outputs": [],
   "source": []
  }
 ],
 "metadata": {
  "kernelspec": {
   "display_name": "Python 3 (ipykernel)",
   "language": "python",
   "name": "python3"
  },
  "language_info": {
   "codemirror_mode": {
    "name": "ipython",
    "version": 3
   },
   "file_extension": ".py",
   "mimetype": "text/x-python",
   "name": "python",
   "nbconvert_exporter": "python",
   "pygments_lexer": "ipython3",
   "version": "3.9.12"
  }
 },
 "nbformat": 4,
 "nbformat_minor": 5
}
